{
 "cells": [
  {
   "cell_type": "code",
   "execution_count": 1,
   "metadata": {},
   "outputs": [],
   "source": [
    "from skimage.io import imread_collection\n",
    "\n",
    "#path \n",
    "col_dir = '../images/*.png'\n",
    "collection = imread_collection(col_dir)"
   ]
  },
  {
   "cell_type": "code",
   "execution_count": 2,
   "metadata": {},
   "outputs": [],
   "source": [
    "import numpy as np\n",
    "from scipy import fftpack\n",
    "\n",
    "Xff2 = [np.ravel(np.abs(fftpack.fft2(col)))for col in collection] "
   ]
  },
  {
   "cell_type": "code",
   "execution_count": 3,
   "metadata": {},
   "outputs": [],
   "source": [
    "Xff2 = np.asarray(Xff2)"
   ]
  },
  {
   "cell_type": "code",
   "execution_count": 5,
   "metadata": {},
   "outputs": [],
   "source": [
    "y = np.loadtxt('../ClasificacionPMG.csv',skiprows=1, delimiter=',')[:,1]"
   ]
  },
  {
   "cell_type": "code",
   "execution_count": 7,
   "metadata": {},
   "outputs": [
    {
     "data": {
      "text/plain": [
       "PCA(copy=True, iterated_power='auto', n_components=2, random_state=0,\n",
       "    svd_solver='auto', tol=0.0, whiten=False)"
      ]
     },
     "execution_count": 7,
     "metadata": {},
     "output_type": "execute_result"
    }
   ],
   "source": [
    "from sklearn.decomposition import PCA\n",
    "\n",
    "pca = PCA(n_components=2, random_state=0)\n",
    "pca.fit(Xff2)"
   ]
  },
  {
   "cell_type": "code",
   "execution_count": 8,
   "metadata": {},
   "outputs": [],
   "source": [
    "import matplotlib.pyplot as plt\n",
    "from matplotlib.colors import ListedColormap\n",
    "plt.style.use('ggplot')\n",
    "%matplotlib inline\n",
    "\n",
    "from sklearn.svm import SVC                             # SVM  \n",
    "\n",
    "# Para separar los datos en entrenamiento y validación\n",
    "from sklearn.model_selection import train_test_split"
   ]
  },
  {
   "cell_type": "code",
   "execution_count": 9,
   "metadata": {},
   "outputs": [],
   "source": [
    "clasificadores = [               \n",
    "    SVC(kernel=\"linear\", C=0.025),            # SVC lineal con C = 0.025\n",
    "    SVC(gamma=2, C=1),                        # SVC gaussiano con gamma = 2 y C = 1\n",
    "]\n",
    "\n",
    "# Solo para fines de graficación\n",
    "titulos = [\"SVM lineal\", \n",
    "           \"SVM gaussiano\"]\n"
   ]
  },
  {
   "cell_type": "code",
   "execution_count": 10,
   "metadata": {},
   "outputs": [
    {
     "name": "stdout",
     "output_type": "stream",
     "text": [
      "\n",
      "\n",
      "\n",
      "\n",
      "******************************\n",
      "\n",
      "Base de datos 1\n",
      "******************************\n",
      "\n"
     ]
    },
    {
     "data": {
      "text/plain": [
       "<Figure size 1440x720 with 0 Axes>"
      ]
     },
     "metadata": {},
     "output_type": "display_data"
    }
   ],
   "source": [
    "## Vamos a escoger una escala de colores de alto contraste\n",
    "cm = plt.cm.RdBu\n",
    "cm_escala = ListedColormap(['#FF0000', '#0000FF'])\n",
    "\n",
    "   \n",
    "print('\\n' * 3)\n",
    "print(\"*\"*30 + \"\\n\")\n",
    "print(\"Base de datos \" + str(1))\n",
    "print(\"*\"*30 + \"\\n\")\n",
    "\n",
    "figure = plt.figure(figsize=(20, 10))\n",
    "X = pca.transform(Xff2)\n"
   ]
  },
  {
   "cell_type": "code",
   "execution_count": 53,
   "metadata": {},
   "outputs": [
    {
     "data": {
      "text/plain": [
       "8848"
      ]
     },
     "execution_count": 53,
     "metadata": {},
     "output_type": "execute_result"
    }
   ],
   "source": [
    "X.nbytes"
   ]
  },
  {
   "cell_type": "code",
   "execution_count": 54,
   "metadata": {},
   "outputs": [],
   "source": [
    "\n",
    "X_train, X_test, y_train, y_test = train_test_split(X, y)\n",
    "\n",
    "p1 = np.arange(X[:, 0].min() - .5, X[:, 0].max() + .5, 0.02)\n",
    "p2 = np.arange(X[:, 1].min() - .5, X[:, 1].max() + .5, 0.02)"
   ]
  },
  {
   "cell_type": "code",
   "execution_count": 55,
   "metadata": {},
   "outputs": [
    {
     "data": {
      "text/plain": [
       "698103536"
      ]
     },
     "execution_count": 55,
     "metadata": {},
     "output_type": "execute_result"
    }
   ],
   "source": [
    "p1.nbytes"
   ]
  },
  {
   "cell_type": "code",
   "execution_count": 14,
   "metadata": {},
   "outputs": [
    {
     "ename": "MemoryError",
     "evalue": "",
     "output_type": "error",
     "traceback": [
      "\u001b[1;31m---------------------------------------------------------------------------\u001b[0m",
      "\u001b[1;31mMemoryError\u001b[0m                               Traceback (most recent call last)",
      "\u001b[1;32m<ipython-input-14-a830e9cef851>\u001b[0m in \u001b[0;36m<module>\u001b[1;34m\u001b[0m\n\u001b[0;32m      1\u001b[0m \u001b[1;31m# Meshgrid para pintar las regiones\u001b[0m\u001b[1;33m\u001b[0m\u001b[1;33m\u001b[0m\u001b[1;33m\u001b[0m\u001b[0m\n\u001b[1;32m----> 2\u001b[1;33m \u001b[0mxx\u001b[0m\u001b[1;33m,\u001b[0m \u001b[0myy\u001b[0m \u001b[1;33m=\u001b[0m \u001b[0mnp\u001b[0m\u001b[1;33m.\u001b[0m\u001b[0mmeshgrid\u001b[0m\u001b[1;33m(\u001b[0m\u001b[0mp1\u001b[0m \u001b[1;33m,\u001b[0m \u001b[0mp2\u001b[0m\u001b[1;33m)\u001b[0m\u001b[1;33m\u001b[0m\u001b[1;33m\u001b[0m\u001b[0m\n\u001b[0m",
      "\u001b[1;32m~\\Anaconda3\\envs\\tesis\\lib\\site-packages\\numpy\\lib\\function_base.py\u001b[0m in \u001b[0;36mmeshgrid\u001b[1;34m(*xi, **kwargs)\u001b[0m\n\u001b[0;32m   4209\u001b[0m \u001b[1;33m\u001b[0m\u001b[0m\n\u001b[0;32m   4210\u001b[0m     \u001b[1;32mif\u001b[0m \u001b[0mcopy_\u001b[0m\u001b[1;33m:\u001b[0m\u001b[1;33m\u001b[0m\u001b[1;33m\u001b[0m\u001b[0m\n\u001b[1;32m-> 4211\u001b[1;33m         \u001b[0moutput\u001b[0m \u001b[1;33m=\u001b[0m \u001b[1;33m[\u001b[0m\u001b[0mx\u001b[0m\u001b[1;33m.\u001b[0m\u001b[0mcopy\u001b[0m\u001b[1;33m(\u001b[0m\u001b[1;33m)\u001b[0m \u001b[1;32mfor\u001b[0m \u001b[0mx\u001b[0m \u001b[1;32min\u001b[0m \u001b[0moutput\u001b[0m\u001b[1;33m]\u001b[0m\u001b[1;33m\u001b[0m\u001b[1;33m\u001b[0m\u001b[0m\n\u001b[0m\u001b[0;32m   4212\u001b[0m \u001b[1;33m\u001b[0m\u001b[0m\n\u001b[0;32m   4213\u001b[0m     \u001b[1;32mreturn\u001b[0m \u001b[0moutput\u001b[0m\u001b[1;33m\u001b[0m\u001b[1;33m\u001b[0m\u001b[0m\n",
      "\u001b[1;32m~\\Anaconda3\\envs\\tesis\\lib\\site-packages\\numpy\\lib\\function_base.py\u001b[0m in \u001b[0;36m<listcomp>\u001b[1;34m(.0)\u001b[0m\n\u001b[0;32m   4209\u001b[0m \u001b[1;33m\u001b[0m\u001b[0m\n\u001b[0;32m   4210\u001b[0m     \u001b[1;32mif\u001b[0m \u001b[0mcopy_\u001b[0m\u001b[1;33m:\u001b[0m\u001b[1;33m\u001b[0m\u001b[1;33m\u001b[0m\u001b[0m\n\u001b[1;32m-> 4211\u001b[1;33m         \u001b[0moutput\u001b[0m \u001b[1;33m=\u001b[0m \u001b[1;33m[\u001b[0m\u001b[0mx\u001b[0m\u001b[1;33m.\u001b[0m\u001b[0mcopy\u001b[0m\u001b[1;33m(\u001b[0m\u001b[1;33m)\u001b[0m \u001b[1;32mfor\u001b[0m \u001b[0mx\u001b[0m \u001b[1;32min\u001b[0m \u001b[0moutput\u001b[0m\u001b[1;33m]\u001b[0m\u001b[1;33m\u001b[0m\u001b[1;33m\u001b[0m\u001b[0m\n\u001b[0m\u001b[0;32m   4212\u001b[0m \u001b[1;33m\u001b[0m\u001b[0m\n\u001b[0;32m   4213\u001b[0m     \u001b[1;32mreturn\u001b[0m \u001b[0moutput\u001b[0m\u001b[1;33m\u001b[0m\u001b[1;33m\u001b[0m\u001b[0m\n",
      "\u001b[1;31mMemoryError\u001b[0m: "
     ]
    }
   ],
   "source": [
    "# Meshgrid para pintar las regiones\n",
    "xx, yy = np.meshgrid(p1 , p2)\n"
   ]
  },
  {
   "cell_type": "code",
   "execution_count": null,
   "metadata": {},
   "outputs": [],
   "source": [
    "# Por cada clasificador\n",
    "for (i, (titulo, clf)) in enumerate(zip(titulos, clasificadores)):\n",
    "\n",
    "    # Escoge el subplot\n",
    "    ax = plt.subplot(1, 2, i + 1)\n",
    "\n",
    "    # El entrenamiento!!!!\n",
    "    clf.fit(X_train, y_train)\n",
    "\n",
    "    # Encuentra el error de validación\n",
    "    score = clf.score(X_test, y_test)\n",
    "\n",
    "    # Clasifica cada punto en el meshgrid\n",
    "    if hasattr(clf, \"decision_function\"):\n",
    "        Z = clf.decision_function(np.c_[xx.ravel(), yy.ravel()])\n",
    "    else:\n",
    "        Z = clf.predict_proba(np.c_[xx.ravel(), yy.ravel()])[:, 1]\n",
    "    Z = Z.reshape(xx.shape)\n",
    "\n",
    "    # Asigna un color a cada punto\n",
    "    ax.contourf(xx, yy, Z, cmap=cm, alpha=.8)\n",
    "\n",
    "    # Grafica los datos de entrenamiento y prueba\n",
    "    ax.scatter(X_train[:, 0], X_train[:, 1], c=y_train, cmap=cm_escala, s=150)\n",
    "    ax.scatter(X_test[:, 0], X_test[:, 1], c=y_test, cmap=cm_escala, s=150, alpha=0.6)\n",
    "\n",
    "    ax.set_xlim(xx.min(), xx.max())\n",
    "    ax.set_ylim(yy.min(), yy.max())\n",
    "    ax.set_xticks(())\n",
    "    ax.set_yticks(())\n",
    "    ax.set_title(titulo, size=30)\n",
    "    ax.text(xx.max() - .3, yy.min() + .3, ('%.2f' % score).lstrip('0'),\n",
    "            size=30, horizontalalignment='right')\n",
    "\n",
    "figure.subplots_adjust(left=.02, right=.98)\n",
    "plt.show()"
   ]
  },
  {
   "cell_type": "code",
   "execution_count": 14,
   "metadata": {},
   "outputs": [],
   "source": [
    "from sklearn.naive_bayes import GaussianNB              # Naive bayes\n",
    "\n",
    "# Genera conjuntos de datos para validación cruzada\n",
    "from sklearn.model_selection import ShuffleSplit\n",
    "\n",
    "# Para encontrar el mejor valor de un parámetro\n",
    "from sklearn.model_selection import GridSearchCV\n",
    "\n",
    "\n",
    "# Métodos de curvas de aprendizaje y análisis \n",
    "# ---------------------------------------------\n",
    "\n",
    "# Para hacer curvas de aprendizaje\n",
    "from sklearn.model_selection import learning_curve\n",
    "\n",
    "# Para hacer curvas de validación\n",
    "from sklearn.model_selection import validation_curve\n",
    "\n",
    "\n",
    "# Establecer un flujo de trabajo de ML\n",
    "#-------------------------------------\n",
    "from sklearn.pipeline import Pipeline\n"
   ]
  },
  {
   "cell_type": "code",
   "execution_count": 36,
   "metadata": {},
   "outputs": [],
   "source": [
    "def plot_curva_aprendizaje(estimator, title, X, y, ylim=None, cv=None,\n",
    "                           n_jobs=1, train_sizes=np.linspace(.1, 1.0, 10)):\n",
    "    \"\"\"\n",
    "    Genera una curva de aprendizaje\n",
    "\n",
    "    estimator : Objeto clasificador con métodos `fit` y `predict`\n",
    "\n",
    "    title : Titulo de la figura.\n",
    "\n",
    "    X : `ndarray` con shape (n_nuestras, n_atributos)\n",
    "\n",
    "    y : `ndarray` con shape (n_muestras) \n",
    "\n",
    "    ylim : tupla (ymin, ymax), opcional. Máximos y mínimos en la gráfica.\n",
    "\n",
    "    cv : int, cross-validation generator, opcional. Número de folders en K-fold-cross-validation\n",
    "\n",
    "    n_jobs : int, opcional. Número de tareas en paralelo.\n",
    "    \n",
    "    train_sizes : ndarray. Valores a los cuales se hace un punto para gener la curva de aprendizaje\n",
    "    \"\"\"\n",
    "\n",
    "\n",
    "    \n",
    "    ####################################################################\n",
    "    train_sizes, train_scores, test_scores = learning_curve(\n",
    "        estimator, X, y, cv=cv, n_jobs=n_jobs, train_sizes=train_sizes)\n",
    "    ####################################################################\n",
    "    \"\"\"\n",
    "    print('train_sizes')\n",
    "    print(train_sizes)\n",
    "    print('train_scores')\n",
    "    print(train_scores)\n",
    "    print('test_scores')\n",
    "    print(test_scores)\n",
    "    \"\"\"\n",
    "    \n",
    "    # EL marco de la gráfica\n",
    "    plt.figure()\n",
    "    plt.title(title)\n",
    "    if ylim is not None:\n",
    "        plt.ylim(*ylim)\n",
    "    plt.xlabel(u\"Ejemplos de entrenamiento\")\n",
    "    plt.ylabel(u\"Error de predicción\")\n",
    "    \n",
    "    train_mean = np.mean(1 - train_scores, axis=1)\n",
    "    train_std = np.std(1 - train_scores, axis=1)\n",
    "    test_mean = np.mean(1 - test_scores, axis=1)\n",
    "    test_std = np.std(1 - test_scores, axis=1)\n",
    "\n",
    "    plt.fill_between(train_sizes, train_mean - train_std,\n",
    "                     train_mean + train_std, alpha=0.1,\n",
    "                     color=\"r\")\n",
    "    plt.fill_between(train_sizes, test_mean - test_std,\n",
    "                     test_mean + test_std, alpha=0.1, color=\"g\")\n",
    "    plt.plot(train_sizes, train_mean, 'o-', color=\"r\",\n",
    "             label=u\"Entrenamiento\")\n",
    "    plt.plot(train_sizes, test_mean, 'o-', color=\"g\",\n",
    "             label=u\"Validación\")\n",
    "\n",
    "    plt.legend(loc=\"best\")\n",
    "    \n",
    "    return plt\n"
   ]
  },
  {
   "cell_type": "code",
   "execution_count": 37,
   "metadata": {},
   "outputs": [
    {
     "data": {
      "text/plain": [
       "<module 'matplotlib.pyplot' from 'C:\\\\Users\\\\nelso\\\\Anaconda3\\\\envs\\\\tesis\\\\lib\\\\site-packages\\\\matplotlib\\\\pyplot.py'>"
      ]
     },
     "execution_count": 37,
     "metadata": {},
     "output_type": "execute_result"
    },
    {
     "data": {
      "image/png": "[encoded data removed]",
      "text/plain": [
       "<Figure size 1080x360 with 1 Axes>"
      ]
     },
     "metadata": {
      "needs_background": "light"
     },
     "output_type": "display_data"
    }
   ],
   "source": [
    "# Validación cruzada con 100 folders (20 por ciento de datos de validación)\n",
    "cv = ShuffleSplit(n_splits=100, test_size=0.2, random_state=0)\n",
    "\n",
    "# Clasificador tipo Naive bayes gaussiano\n",
    "clf = GaussianNB()\n",
    "\n",
    "#Curva de aprendizaje\n",
    "plt.rcParams['figure.figsize'] = (15, 5)\n",
    "plot_curva_aprendizaje(clf, \"Curva de aprendizaje (Naive Bayes)\", \n",
    "                       X, y, ylim=(0, 0.3), cv=cv, n_jobs=1)"
   ]
  },
  {
   "cell_type": "markdown",
   "metadata": {},
   "source": [
    "\n",
    "#### Ejercicio 2.\n",
    "\n",
    "Responde a las siguiente preguntas:\n",
    "\n",
    "1. ¿Hay alto sezgo, alta varianza, o el resultado es correcto?\n",
    "2. ¿Hay sobre aprendizaje, sub aprendizaje o es correcto?\n",
    "3. ¿Se necesitarían más datos?\n",
    "4. Indica 3 posibles acciones a considerar en este caso (de ser necesario).\n"
   ]
  },
  {
   "cell_type": "markdown",
   "metadata": {},
   "source": [
    "## 2.3. Analizando una máquina de vector de soporte con kernel gaussiano\n",
    "\n",
    "En este caso, vamos a analizar un clasificador cuyo aprendizaje es más complejo (y por lo tanto toma más tiempo). Por esta razón vamos a limitarnos a una validación cruzada de 10 folders."
   ]
  },
  {
   "cell_type": "code",
   "execution_count": 51,
   "metadata": {},
   "outputs": [
    {
     "data": {
      "text/plain": [
       "<module 'matplotlib.pyplot' from 'C:\\\\Users\\\\nelso\\\\Anaconda3\\\\envs\\\\tesis\\\\lib\\\\site-packages\\\\matplotlib\\\\pyplot.py'>"
      ]
     },
     "execution_count": 51,
     "metadata": {},
     "output_type": "execute_result"
    },
    {
     "data": {
      "image/png": "[encoded data removed]",
      "text/plain": [
       "<Figure size 1080x360 with 1 Axes>"
      ]
     },
     "metadata": {
      "needs_background": "light"
     },
     "output_type": "display_data"
    }
   ],
   "source": [
    "# Validación cruzada de 10 folders (20 por ciento de datos de validación)\n",
    "cv = ShuffleSplit(n_splits=10, test_size=0.2, random_state=0)\n",
    "\n",
    "# Clasificador SVM con kernel gaussiano y gamma=0.001\n",
    "clf = SVC(gamma=0.001)\n",
    "\n",
    "#Curva de aprendizaje\n",
    "plt.rcParams['figure.figsize'] = (15, 5)\n",
    "plot_curva_aprendizaje(clf, \"Curva de aprendizaje (SVM, kernel RBF, $\\gamma=0.001$)\", \n",
    "                       X, y, ylim=(0, 0.65), cv=cv, n_jobs=1)\n"
   ]
  },
  {
   "cell_type": "markdown",
   "metadata": {},
   "source": [
    "#### Ejercicio 3.\n",
    "\n",
    "Responde a las siguiente preguntas:\n",
    "\n",
    "1. ¿Hay alto bias, alta varianza, o el resultado es correcto?\n",
    "2. ¿Hay sobre aprendizaje, sub aprendizaje o es correcto?\n",
    "3. ¿Se necesitarían más datos?\n",
    "4. Indica 3 posibles acciones a considerar en este caso (de ser necesario).\n"
   ]
  },
  {
   "cell_type": "markdown",
   "metadata": {},
   "source": [
    "## 2.4. Curva de validación para el parámetro $\\gamma$\n",
    "\n",
    "Vamos ahora a graficar la curva de validación para diferentes parámetros de $\\gamma$ sobre el clasificador por máquinas de vactores de soporte con kernel gaussiano. Dado que los cambios que se pueden percibir son muy pequeños, a menos que el parámetro de varía en forma logarítmica (esto es, en relación a sus ordenes de magnitud), pues la curva de validación la vamos a realizar utilizando una escala logarítmica."
   ]
  },
  {
   "cell_type": "code",
   "execution_count": 41,
   "metadata": {},
   "outputs": [
    {
     "data": {
      "text/plain": [
       "(0.0, 0.2)"
      ]
     },
     "execution_count": 41,
     "metadata": {},
     "output_type": "execute_result"
    },
    {
     "data": {
      "image/png": "[encoded data removed]",
      "text/plain": [
       "<Figure size 1080x360 with 1 Axes>"
      ]
     },
     "metadata": {
      "needs_background": "light"
     },
     "output_type": "display_data"
    }
   ],
   "source": [
    "# Los valores que le vamos a dar a \\gamma\n",
    "param_range = np.logspace(-6, -1, 5)\n",
    "\n",
    "# La curva de validación con 10 fold-cross-validation\n",
    "train_scores, test_scores = validation_curve(SVC(), X, y, \n",
    "                                             param_name=\"gamma\", \n",
    "                                             param_range=param_range,\n",
    "                                             cv=10, \n",
    "                                             scoring=\"accuracy\", \n",
    "                                             n_jobs=1)\n",
    "\n",
    "train_mean = np.mean(1 - train_scores, axis=1)\n",
    "train_std = np.std(1 - train_scores, axis=1)\n",
    "\n",
    "test_mean = np.mean(1 - test_scores, axis=1)\n",
    "test_std = np.std(1 - test_scores, axis=1)\n",
    "\n",
    "\n",
    "plt.rcParams['figure.figsize'] = (15, 5)\n",
    "\n",
    "# Plot de los resultados de entrenamiento\n",
    "plt.semilogx(param_range, train_mean, label=\"Entrenamiento\", color=\"r\")\n",
    "plt.fill_between(param_range, \n",
    "                 train_mean - train_std,\n",
    "                 train_mean + train_std, \n",
    "                 alpha=0.2, color=\"r\")\n",
    "\n",
    "# Plot de los resultados de validación\n",
    "plt.semilogx(param_range, test_mean, label=u\"Validación cruzada\", color=\"g\")\n",
    "plt.fill_between(param_range, \n",
    "                 test_mean - test_std,\n",
    "                 test_mean + test_std, \n",
    "                 alpha=0.2, color=\"g\")\n",
    "\n",
    "plt.title(u\"Curva de validación de SVM con kernel gaussiano al variar $\\gamma$\")\n",
    "plt.xlabel(u\"Parámetro $\\gamma$\")\n",
    "plt.ylabel(u\"Error de clasificación\")\n",
    "plt.legend(loc=\"best\")\n",
    "plt.ylim(0.0, 0.2)\n",
    "\n"
   ]
  },
  {
   "cell_type": "markdown",
   "metadata": {},
   "source": [
    "#### Ejercicio 4.\n",
    "\n",
    "Responde a las siguiente preguntas:\n",
    "\n",
    "1. ¿En que valor de $\\gamma$ hay claramente sobreaprendizaje?\n",
    "2. ¿En que valor de $\\gamma$ hay claramente subaprendizaje?\n",
    "3. ¿Cual sería a t consideración el mejor valor de $\\gamma$?\n"
   ]
  },
  {
   "cell_type": "markdown",
   "metadata": {},
   "source": [
    "## 3. Automatización de tareas\n",
    "\n",
    "Hacer las tareas repetitivas, tales como ajustar parámetros, o utilizar una serie de pasos en un proceso de reconocimiento de partones, son el tipo de problemas que son claramente automatizables. En esta sección vamos a ver como automatizar dos tareas: el uso de un método de preprocesamiento de señales conectado a un mñetodo de clasificación utilizando un `pipeline`; y el proceso de optimización de los valores de los parámetros utilizando curvas de validación (calibración). \n",
    "\n",
    "Recuerda que estos son solo dos ejemplos de formas de automatización y que existen otros más ya contemplados dentro de la librería `sklearn`.\n",
    "\n",
    "### 3.1. Automatización de procedimientos que se realizan en serie\n",
    "\n",
    "Vamos a asumir que queremos realizar el reconocimiento de digitos escritos a mano (el mísmo conjunto de datos original), pero ahora utilizando otro enfoque. Vamos a preprocesar los datos utilizando análisis en componentes principales (PCA), y luego aplicando un clasificador por regresión logística con regularización. \n",
    "\n",
    "Es importante de ver que en el aprendizaje hay que ajustar la matriz de transformación y la normalización de datos en el PCA, para luego utilizar esos resultados para el ajuste de los pesos del regresor logístico. De la misma manera, para reconocer nuevos datos, es necesario normalizarlos y rotarlos de acuerdo al algoritmo de PCA, para que su resultado sea utilizado dentro de la regresión logística. Así, las operacions (tanto de reconocimiento como aprendizaje) se hacen en serie, o en `pipeline` para utilizar un término muy común para quienes utilizan la linea de comandos en UNIX.\n",
    "\n",
    "Vamos entonces a definir un *pipeline* con estas dos unidades de procesamiento\n"
   ]
  },
  {
   "cell_type": "code",
   "execution_count": 45,
   "metadata": {},
   "outputs": [],
   "source": [
    "from sklearn.linear_model import  LogisticRegression    # Logística con regularización\n",
    "\n",
    "# El tratamiento de los datos por PCA \n",
    "# con la asignación por default de sus parámetros\n",
    "pca = PCA(random_state=0)\n",
    "\n",
    "msv = SVC()\n",
    "\n",
    "# Siempre que se haga entrenamiento o predicción, hay que\n",
    "# aplicar pca primero y logistic después\n",
    "pipe = Pipeline(\n",
    "    steps=[\n",
    "        ('acp', pca), \n",
    "        ('svm', msv)\n",
    "    ]\n",
    ")\n",
    "\n",
    "# Ahora en pipe tenemos un clasificador, de tal forma que \n",
    "# pipe.fit(X, y) ajusta ambos métodos, y\n",
    "# pipe.predict(X) realiza la prediccion (entre otros operadores genéricos de un clasificador)\n"
   ]
  },
  {
   "cell_type": "markdown",
   "metadata": {},
   "source": [
    "### 3.2. Optimizador de parámetros por curvas de validación\n",
    "\n",
    "Como es posible observar, no es necesario visualizar las curvas de calibración, ya que el mejor valor para una variable es cuando el error de validación es el menor posible. Así que es claro que la tarea de encontra el mejor valor posible para uno o varios parámetros, es probar sobre un conjunto de valores, y seleccionar los valores de los parámetros que ofrezcan el menor error de validación posible.\n",
    "\n",
    "Al ser esta una tarea fácilmente automatizable, es de esperar que exista ya algo así dentro del modulo de `sklear`. Y efectivamente, existe, para un conjunto finito y predefinido de valores en los cuales buscar."
   ]
  },
  {
   "cell_type": "code",
   "execution_count": 46,
   "metadata": {},
   "outputs": [],
   "source": [
    "# Se escogen dos parámetros a ajustas: \n",
    "#       a) El número de componentes principales del PCA\n",
    "#       b) El valor de C (regularización) para la regresión logística\n",
    "\n",
    "# EL número de componentes principales podrá ser 20, 40 o todos\n",
    "n_componentes = [2, 3, 4, 5, 6, 7, 8, 9, 10]\n",
    "\n",
    "# El parámetro C varia como 0.0001, 0.001, 0.01, 0.1, 1, 10, 100, 1000\n",
    "#Cs = np.logspace(-4, 4, 8)\n",
    "\n",
    "#gamma=0.001\n",
    "param_range = np.logspace(-6, -1, 5)\n",
    "\n",
    "# Genera un clasificador con optimizador de parámetros en el aprendizaje\n",
    "#        a) Utiliza el clasificador definido en pipe\n",
    "#        b) Los parámetros a ajustar se ponen en un diccionario {var1: valores_var1, var2:valores_var2}\n",
    "#        c) pca__n_components es equivalente a pipe.pca.n_components (para poderlo poner en strings)\n",
    "#        d) logistic__C es equivalente a la variable pipe.logistic.C\n",
    "# \n",
    "# Al ser el clasificador un pipeline, los parámetros se encuentran en esa forma de la estructura.\n",
    "\n",
    "clf = GridSearchCV(\n",
    "    pipe,\n",
    "    dict(\n",
    "        acp__n_components= n_componentes,\n",
    "        svm__gamma = param_range\n",
    "    ),\n",
    "    cv=3\n",
    ")\n",
    "\n",
    "# Ahora clf es un objeto clasificador, que si se ejecuta clf.fit(X,y)\n",
    "# ajusta los objetos pca y logistic y ajusta los parámetros pca.n_components y logistic.C de\n",
    "# acuerdo al conjunto de posibles parámetros que le introducimos. El reconocimiento y el resto de\n",
    "# las funciones son similares a las que tenía pipe\n",
    "\n"
   ]
  },
  {
   "cell_type": "markdown",
   "metadata": {},
   "source": [
    "### 3.3 Aplicando el aprendizaje"
   ]
  },
  {
   "cell_type": "code",
   "execution_count": 48,
   "metadata": {},
   "outputs": [
    {
     "name": "stdout",
     "output_type": "stream",
     "text": [
      "El mejor valor de regularización es: 1e-06\n",
      "El número óptimo de componentes principales es: 2\n"
     ]
    }
   ],
   "source": [
    "clf.fit(Xff2, y)\n",
    "\n",
    "print(\"El mejor valor de regularización es: {}\".format(clf.best_estimator_.named_steps['svm'].gamma))\n",
    "print(\"El número óptimo de componentes principales es: {}\".format(clf.best_estimator_.named_steps['acp'].n_components))"
   ]
  },
  {
   "cell_type": "code",
   "execution_count": 56,
   "metadata": {},
   "outputs": [
    {
     "ename": "AttributeError",
     "evalue": "'SVC' object has no attribute 'best_estimator_'",
     "output_type": "error",
     "traceback": [
      "\u001b[1;31m---------------------------------------------------------------------------\u001b[0m",
      "\u001b[1;31mAttributeError\u001b[0m                            Traceback (most recent call last)",
      "\u001b[1;32m<ipython-input-56-fbcfc8af37a8>\u001b[0m in \u001b[0;36m<module>\u001b[1;34m\u001b[0m\n\u001b[0;32m      1\u001b[0m \u001b[0mclf\u001b[0m\u001b[1;33m.\u001b[0m\u001b[0mfit\u001b[0m\u001b[1;33m(\u001b[0m\u001b[0mX\u001b[0m\u001b[1;33m,\u001b[0m \u001b[0my\u001b[0m\u001b[1;33m)\u001b[0m\u001b[1;33m\u001b[0m\u001b[1;33m\u001b[0m\u001b[0m\n\u001b[0;32m      2\u001b[0m \u001b[1;33m\u001b[0m\u001b[0m\n\u001b[1;32m----> 3\u001b[1;33m \u001b[0mprint\u001b[0m\u001b[1;33m(\u001b[0m\u001b[1;34m\"El mejor valor de regularización es: {}\"\u001b[0m\u001b[1;33m.\u001b[0m\u001b[0mformat\u001b[0m\u001b[1;33m(\u001b[0m\u001b[0mclf\u001b[0m\u001b[1;33m.\u001b[0m\u001b[0mbest_estimator_\u001b[0m\u001b[1;33m.\u001b[0m\u001b[0mnamed_steps\u001b[0m\u001b[1;33m[\u001b[0m\u001b[1;34m'svm'\u001b[0m\u001b[1;33m]\u001b[0m\u001b[1;33m.\u001b[0m\u001b[0mgamma\u001b[0m\u001b[1;33m)\u001b[0m\u001b[1;33m)\u001b[0m\u001b[1;33m\u001b[0m\u001b[1;33m\u001b[0m\u001b[0m\n\u001b[0m\u001b[0;32m      4\u001b[0m \u001b[0mprint\u001b[0m\u001b[1;33m(\u001b[0m\u001b[1;34m\"El número óptimo de componentes principales es: {}\"\u001b[0m\u001b[1;33m.\u001b[0m\u001b[0mformat\u001b[0m\u001b[1;33m(\u001b[0m\u001b[0mclf\u001b[0m\u001b[1;33m.\u001b[0m\u001b[0mbest_estimator_\u001b[0m\u001b[1;33m.\u001b[0m\u001b[0mnamed_steps\u001b[0m\u001b[1;33m[\u001b[0m\u001b[1;34m'acp'\u001b[0m\u001b[1;33m]\u001b[0m\u001b[1;33m.\u001b[0m\u001b[0mn_components\u001b[0m\u001b[1;33m)\u001b[0m\u001b[1;33m)\u001b[0m\u001b[1;33m\u001b[0m\u001b[1;33m\u001b[0m\u001b[0m\n",
      "\u001b[1;31mAttributeError\u001b[0m: 'SVC' object has no attribute 'best_estimator_'"
     ]
    }
   ],
   "source": [
    "clf.fit(X, y)\n",
    "\n",
    "print(\"El mejor valor de regularización es: {}\".format(clf.best_estimator_.named_steps['svm'].gamma))\n",
    "print(\"El número óptimo de componentes principales es: {}\".format(clf.best_estimator_.named_steps['acp'].n_components))"
   ]
  },
  {
   "cell_type": "code",
   "execution_count": null,
   "metadata": {},
   "outputs": [],
   "source": []
  },
  {
   "cell_type": "markdown",
   "metadata": {},
   "source": [
    "#### Ejercicio 5.\n",
    "\n",
    "Prueba de realizar la clasificación de los digitos utilizando un clasificador por máquina de vector de soporte con kernel lineal combinado con análisis en componentes principales.\n",
    "\n",
    "1.  Encuentra los mejores valores para al menos dos parámetros diferentes.\n",
    "\n",
    "2. Grafica la curva de aprendizaje y escribe las posibles ventajas y desventajas del método en relación a los métodos de Naive Bayes y de SVM con kernel gaussiano vistos anteriormente\n",
    "\n"
   ]
  }
 ],
 "metadata": {
  "kernelspec": {
   "display_name": "Python 3",
   "language": "python",
   "name": "python3"
  },
  "language_info": {
   "codemirror_mode": {
    "name": "ipython",
    "version": 3
   },
   "file_extension": ".py",
   "mimetype": "text/x-python",
   "name": "python",
   "nbconvert_exporter": "python",
   "pygments_lexer": "ipython3",
   "version": "3.7.4"
  }
 },
 "nbformat": 4,
 "nbformat_minor": 4
}
